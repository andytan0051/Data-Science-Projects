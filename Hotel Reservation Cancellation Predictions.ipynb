{
 "cells": [
  {
   "cell_type": "markdown",
   "id": "b39b9a13",
   "metadata": {},
   "source": [
    "## About Dataset \n",
    "(source: https://www.kaggle.com/datasets/ahsan81/hotel-reservations-classification-dataset)\n",
    "\n",
    "### Context\n",
    "The online hotel reservation channels have dramatically changed booking possibilities and customers’ behavior. A significant number of hotel reservations are called-off due to cancellations or no-shows. The typical reasons for cancellations include change of plans, scheduling conflicts, etc. This is often made easier by the option to do so free of charge or preferably at a low cost which is beneficial to hotel guests but it is a less desirable and possibly revenue-diminishing factor for hotels to deal with."
   ]
  },
  {
   "cell_type": "code",
   "execution_count": null,
   "id": "3e93bf91",
   "metadata": {},
   "outputs": [],
   "source": []
  }
 ],
 "metadata": {
  "kernelspec": {
   "display_name": "Python 3 (ipykernel)",
   "language": "python",
   "name": "python3"
  },
  "language_info": {
   "codemirror_mode": {
    "name": "ipython",
    "version": 3
   },
   "file_extension": ".py",
   "mimetype": "text/x-python",
   "name": "python",
   "nbconvert_exporter": "python",
   "pygments_lexer": "ipython3",
   "version": "3.10.9"
  }
 },
 "nbformat": 4,
 "nbformat_minor": 5
}
